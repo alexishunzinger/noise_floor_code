{
 "cells": [
  {
   "cell_type": "code",
   "execution_count": 148,
   "metadata": {},
   "outputs": [],
   "source": [
    "# Import necessary things\n",
    "import numpy as np\n",
    "import matplotlib.pyplot as plt\n",
    "import pyart\n",
    "%matplotlib inline"
   ]
  },
  {
   "cell_type": "code",
   "execution_count": 149,
   "metadata": {},
   "outputs": [],
   "source": [
    "def noisefloor_difference(filename):\n",
    "    # Read in file\n",
    "    radar = pyart.io.cfradial.read_cfradial(filename, file_field_names=True) \n",
    "    #radar = pyart.aux_io.read_gamic(filename, file_field_names=True) \n",
    "    # Get string of the date and time\n",
    "    # Format: 'YYYY-MM-DDTHH:MM:SSZ'\n",
    "    date_time = radar.time['units'].replace('seconds since ', '')\n",
    "    # Get variables\n",
    "    #uzh = radar.fields['UZh']['data']\n",
    "    #uzv = radar.fields['UZv']['data']\n",
    "    #snrh = radar.fields['SNRh']['data']\n",
    "    #snrv = radar.fields['SNRv']['data']\n",
    "    #sph = radar.fields['SIGPOWh']['data']\n",
    "    #spv = radar.fields['SIGPOWv']['data']\n",
    "    #sqih = radar.fields['SQIh']['data'] #quality index\n",
    "    #sqiv = radar.fields['SQIv']['data'] #quality index\n",
    "    uzh = radar.fields['reflectivity']['data']\n",
    "    uzv = radar.fields['reflectivity_v']['data']\n",
    "    snrh = radar.fields['signal_to_noise_ratio_copolar_h']['data']\n",
    "    snrv = radar.fields['signal_to_noise_ratio_copolar_v']['data']\n",
    "    #sph = radar.fields['SIGPOWh']['data']\n",
    "    #spv = radar.fields['SIGPOWv']['data']\n",
    "    sqih = radar.fields['normalized_coherent_power']['data'] #quality index\n",
    "    sqiv = radar.fields['normalized_coherent_power_v']['data'] #quality index\n",
    "    r = radar.range['data']\n",
    "    # Find indices of the top 15 deg. in elevation angle        \n",
    "    top15idx = []\n",
    "    for i in range(0,len(radar.elevation['data'])):\n",
    "        if radar.elevation['data'][i] > 82.5 and radar.elevation['data'][i] < 97.5:\n",
    "            top15idx.append(i)\n",
    "    # Find indices at ranges greater than 5 km\n",
    "    r_above5idx = np.where(r > 5000.)[0]\n",
    "    # Pull all noise values from Zh and Zv and bin them in 1 dB increments\n",
    "    # Subtract range term from UZx\n",
    "    # Left with the noise variable\n",
    "    noise_h = []\n",
    "    noise_v = []\n",
    "    noise_hv = []\n",
    "    for i in top15idx:\n",
    "        for j in r_above5idx:\n",
    "            if uzh[i,j] <= -10. and uzv[i,j] <= -10. and sqih[i,j] < 0.3 and sqiv[i,j] < 0.3:\n",
    "                noise_h.append(uzh[i,j] - (20*np.log10(r[j])))\n",
    "                noise_v.append(uzv[i,j] - (20*np.log10(r[j])))\n",
    "                noise_hv.append((uzh[i,j]-(20*np.log10(r[j]))) - (uzv[i,j]-(20*np.log10(r[j]))))\n",
    "    # Histogram the data and find the peak value\n",
    "    b = np.arange(401)*0.125-140\n",
    "    # Horizontal\n",
    "    n_h, bins_h, patches_h = plt.hist(noise_h, bins=b)\n",
    "    pk_h = np.where(n_h == np.max(n_h))\n",
    "    peak_h = bins_h[pk_h]\n",
    "    # Vertical\n",
    "    n_v, bins_v, patches_v = plt.hist(noise_v, bins=b)\n",
    "    pk_v = np.where(n_v == np.max(n_v))\n",
    "    peak_v = bins_v[pk_v]\n",
    "    # H - V\n",
    "    bb = np.arange(401)*0.125-40\n",
    "    n_hv, bins_hv, pathces_hv = plt.hist(noise_hv, bins=bb)\n",
    "    pk_hv = np.where(n_hv == np.max(n_hv))\n",
    "    peak_hv = bins_hv[pk_hv]\n",
    "\n",
    "    return date_time, peak_h, peak_v, peak_hv"
   ]
  },
  {
   "cell_type": "code",
   "execution_count": 150,
   "metadata": {},
   "outputs": [
    {
     "name": "stdout",
     "output_type": "stream",
     "text": [
      "2018-10-28 04:10:55 0:00\n",
      "2018-10-28 02:10:55 0:00\n",
      "2018-10-28 02:25:55 0:00\n",
      "2018-10-28 08:07:15 0:00\n",
      "2018-10-28 03:40:55 0:00\n",
      "2018-10-28 07:55:55 0:00\n",
      "2018-10-28 06:25:55 0:00\n",
      "2018-10-28 05:25:55 0:00\n",
      "2018-10-28 00:22:15 0:00\n",
      "2018-10-28 03:55:55 0:00\n",
      "2018-10-28 06:52:15 0:00\n",
      "2018-10-28 07:52:15 0:00\n",
      "2018-10-28 04:40:55 0:00\n",
      "2018-10-28 04:07:15 0:00\n",
      "2018-10-28 00:37:15 0:00\n",
      "2018-10-28 07:37:15 0:00\n",
      "2018-10-28 02:40:55 0:00\n",
      "2018-10-28 08:10:55 0:00\n",
      "2018-10-28 04:52:15 0:00\n",
      "2018-10-28 06:22:15 0:00\n",
      "2018-10-28 00:40:55 0:00\n",
      "2018-10-28 01:55:55 0:00\n",
      "2018-10-28 01:10:55 0:00\n",
      "2018-10-28 00:55:56 0:00\n",
      "2018-10-28 03:25:55 0:00\n",
      "2018-10-28 02:22:15 0:00\n",
      "2018-10-28 06:40:55 0:00\n",
      "2018-10-28 07:10:55 0:00\n",
      "2018-10-28 01:07:15 0:00\n",
      "2018-10-28 01:37:15 0:00\n",
      "2018-10-28 03:37:15 0:00\n",
      "2018-10-28 07:40:55 0:00\n",
      "2018-10-28 03:22:15 0:00\n",
      "2018-10-28 01:25:55 0:00\n",
      "2018-10-28 07:22:15 0:00\n",
      "2018-10-28 05:10:55 0:00\n",
      "2018-10-28 06:07:15 0:00\n",
      "2018-10-28 01:52:15 0:00\n",
      "2018-10-28 05:55:55 0:00\n",
      "2018-10-28 06:37:15 0:00\n",
      "2018-10-28 06:55:55 0:00\n",
      "2018-10-28 00:52:15 0:00\n",
      "2018-10-28 05:37:15 0:00\n",
      "2018-10-28 03:52:15 0:00\n",
      "2018-10-28 04:55:55 0:00\n",
      "2018-10-28 05:07:15 0:00\n",
      "2018-10-28 07:07:15 0:00\n",
      "2018-10-28 02:52:15 0:00\n",
      "2018-10-28 08:22:15 0:00\n",
      "2018-10-28 04:25:55 0:00\n",
      "2018-10-28 00:25:55 0:00\n",
      "2018-10-28 02:55:55 0:00\n",
      "2018-10-28 03:07:15 0:00\n",
      "2018-10-28 05:52:15 0:00\n",
      "2018-10-28 05:40:55 0:00\n",
      "2018-10-28 06:10:55 0:00\n",
      "2018-10-28 03:10:55 0:00\n",
      "2018-10-28 02:07:15 0:00\n",
      "2018-10-28 05:22:15 0:00\n",
      "2018-10-28 07:25:55 0:00\n",
      "2018-10-28 02:37:15 0:00\n",
      "2018-10-28 08:25:55 0:00\n",
      "2018-10-28 04:22:15 0:00\n",
      "2018-10-28 01:40:55 0:00\n",
      "2018-10-28 04:37:15 0:00\n",
      "2018-10-28 01:22:15 0:00\n"
     ]
    },
    {
     "data": {
      "image/png": "[encoded data removed]",
      "text/plain": [
       "<Figure size 432x288 with 1 Axes>"
      ]
     },
     "metadata": {
      "needs_background": "light"
     },
     "output_type": "display_data"
    }
   ],
   "source": [
    "# Run this function on a bunch of files (try data from one day)\n",
    "import os\n",
    "import glob\n",
    "\n",
    "DATE = []\n",
    "H = []\n",
    "V= []\n",
    "HV = []\n",
    "\n",
    "for filepath in glob.glob(os.path.join('/home/hunzinger/data/hsrhi_1028/', 'corcsapr2cfrhsrhi*.20181028*.nc')):\n",
    "    dt,ph,pv,phv = noisefloor_difference(filepath)\n",
    "    print(dt)\n",
    "    DATE.append(dt)\n",
    "    H.append(ph)\n",
    "    V.append(pv)\n",
    "    HV.append(phv)"
   ]
  },
  {
   "cell_type": "code",
   "execution_count": 173,
   "metadata": {},
   "outputs": [
    {
     "name": "stdout",
     "output_type": "stream",
     "text": [
      "66\n",
      "66\n",
      "66\n",
      "['00:22:15', '', '', '', '', '', '01:07:15', '', '', '', '', '', '01:52:15', '', '', '', '', '', '02:37:15', '', '', '', '', '', '03:22:15', '', '', '', '', '', '04:07:15', '', '', '', '', '', '04:52:15', '', '', '', '', '', '05:37:15', '', '', '', '', '', '06:22:15', '', '', '', '', '', '07:07:15', '', '', '', '', '', '07:52:15', '', '', '', '', '']\n"
     ]
    },
    {
     "data": {
      "image/png": "[encoded data removed]",
      "text/plain": [
       "<Figure size 1008x216 with 1 Axes>"
      ]
     },
     "metadata": {
      "needs_background": "light"
     },
     "output_type": "display_data"
    }
   ],
   "source": [
    "print(len(DATE))\n",
    "print(len(HV))\n",
    "HVfix = []\n",
    "for i in range(0,len(HV)):\n",
    "    HVfix.append(HV[i][0])\n",
    "DATE = np.asarray(DATE)\n",
    "TIME = []\n",
    "for i in range(0,len(DATE)):\n",
    "    #TIME.append(DATE[i].replace('2018-10-06T',''))\n",
    "    #TIME.append(DATE[i].replace('2018-10-20',''))\n",
    "    TIME.append(DATE[i][11:19])\n",
    "    \n",
    "# idx works on np.array and not lists.\n",
    "list1 = np.array([3,2,4,1])\n",
    "list2 = np.array([\"three\",\"two\",\"four\",\"one\"])\n",
    "idx   = np.argsort(list1)\n",
    "\n",
    "list1 = np.array(list1)[idx]\n",
    "list2 = np.array(list2)[idx]\n",
    "\n",
    "idxx = np.argsort(TIME)\n",
    "print(len(idxx))\n",
    "TIME_s = np.array(TIME)[idxx]\n",
    "HVfix_s = np.array(HVfix)[idxx]\n",
    "DATE_s = np.array(DATE)[idxx]\n",
    "\n",
    "\n",
    "#TIME_ticks = np.empty(len(TIME_s))\n",
    "TIME_ticks = []\n",
    "for i in range(0,len(TIME_s)):\n",
    "    if i%6 == 0:\n",
    "        TIME_ticks.append(TIME_s[i])\n",
    "        #TIME_ticks[i] = TIME_s[i]\n",
    "    else: \n",
    "        TIME_ticks.append('')\n",
    "        #TIME_ticks[i] = np.nan\n",
    "        \n",
    "print(TIME_ticks)\n",
    "\n",
    "\n",
    "#print(HV[0][0])\n",
    "#print(HVfix)\n",
    "#print(DATE)\n",
    "#plt.plot(HVfix)\n",
    "#plt.show()\n",
    "# Plot time series of the noise floor difference (h-v)\n",
    "plt.figure(figsize=[14,3])\n",
    "plt.scatter(DATE_s,HVfix_s,marker='o')\n",
    "#plt.scatter(DATE,MZDR1,\n",
    "#            marker='*',\n",
    "#            c=NZDR,\n",
    "#            cmap='winter_r',\n",
    "#            label='ZDR1')\n",
    "#plt.legend()\n",
    "plt.ylabel('dB')\n",
    "plt.title('Noise floor difference (H-V) \\n 2018-10-28 \\n 00:22:15 - 08:25:55')\n",
    "\n",
    "# Chnage x-tick labels to make more readable\n",
    "#TIME = DATE.replace('2018-10-05','')\n",
    "\n",
    "#TIME = []\n",
    "#for i in DATE:\n",
    "#    TIME.append(i.replace('2018-10-05T',''))\n",
    "plt.xticks(np.arange(len(TIME)),sorted(TIME),rotation=60)\n",
    "#plt.xticks(np.arange(len(TIME)),TIME,rotation=60)\n",
    "\n",
    "plt.show()\n",
    "\n",
    "from scipy import optimize\n",
    "def test_func(x, a, b):\n",
    "    return a * np.sin(b * x)\n",
    "params, params_covariance = optimize.curve_fit(test_func, np.arange(len(DATE_s)), HVfix_s,\n",
    "                                               p0=[2, 2])\n",
    "\n",
    "#print(params)\n",
    "#plt.figure(figsize=[10,3])\n",
    "#plt.scatter(np.arange(len(DATE)),HVfix_s,marker='o')\n",
    "#plt.ylabel('dB')\n",
    "#plt.title('Noise floor difference (H-V) \\n 2018-10-05 \\n 15:5239 - 22:37:39')\n",
    "#labels = TIME\n",
    "#plt.xticks(np.arange(len(TIME)),sorted(TIME),rotation=60)\n",
    "#plt.xticks(np.arange(len(TIME)),sorted(labels),rotation=60)\n",
    "#plt.plot(np.arange(len(DATE_s)),test_func(HVfix_s, params[0], params[1]),\n",
    "#         label='Fitted function')\n",
    "\n",
    "\n"
   ]
  },
  {
   "cell_type": "code",
   "execution_count": 180,
   "metadata": {},
   "outputs": [],
   "source": [
    "labels = TIME\n",
    "#labels[2::2]"
   ]
  },
  {
   "cell_type": "code",
   "execution_count": 188,
   "metadata": {},
   "outputs": [
    {
     "name": "stdout",
     "output_type": "stream",
     "text": [
      "10 10\n"
     ]
    },
    {
     "ename": "TypeError",
     "evalue": "scatter() missing 2 required positional arguments: 'x' and 'y'",
     "output_type": "error",
     "traceback": [
      "\u001b[0;31m---------------------------------------------------------------------------\u001b[0m",
      "\u001b[0;31mTypeError\u001b[0m                                 Traceback (most recent call last)",
      "\u001b[0;32m<ipython-input-188-51cc14fbe1c2>\u001b[0m in \u001b[0;36m<module>\u001b[0;34m\u001b[0m\n\u001b[1;32m     16\u001b[0m \u001b[0;34m\u001b[0m\u001b[0m\n\u001b[1;32m     17\u001b[0m \u001b[0mfill\u001b[0m\u001b[0;34m\u001b[0m\u001b[0m\n\u001b[0;32m---> 18\u001b[0;31m \u001b[0mplt\u001b[0m\u001b[0;34m.\u001b[0m\u001b[0mscatter\u001b[0m\u001b[0;34m(\u001b[0m\u001b[0;34m)\u001b[0m\u001b[0;34m\u001b[0m\u001b[0m\n\u001b[0m",
      "\u001b[0;31mTypeError\u001b[0m: scatter() missing 2 required positional arguments: 'x' and 'y'"
     ]
    },
    {
     "data": {
      "image/png": "[encoded data removed]",
      "text/plain": [
       "<Figure size 432x288 with 1 Axes>"
      ]
     },
     "metadata": {
      "needs_background": "light"
     },
     "output_type": "display_data"
    }
   ],
   "source": [
    "TIME2 = ['01:45:53Z','02:15:53Z','03:30:53Z','04:15:53Z','05:45:53Z','06:30:53Z','07:00:53Z','08:15:53Z','09:15:53Z']\n",
    "zdr = [1.596704,0.43311208,0.44385442,0.5068437,0.56104374,0.96925306,0.95256126,0.962417,0.77882046]\n",
    "TIME2 = ['00:15:03','02:00:04','02:45:03','03:45:03','04:30:04','05:30:04','06:45:04Z','07:00:04Z','07:15:04Z','07:30:04Z','07:45:04Z','08:45:04Z','09:45:04Z']\n",
    "zdr = [5.31109,2.9233,3.2109,3.02735,2.777413,2.9158909,0.7316049,0.5489517,0.58511617,0.5869472,0.6027405,0.66133606,0.8819849]\n",
    "TIME2 = ['00:22:15','02:22:15','03:22:15','03:55:55','04:10:55','04:52:15','05:37:15','06:22:15','07:07:15','07:52:15']\n",
    "zdr = [3.1439,3.779485,3.7617485,4.3780,2.3487,0.602416,0.62928,0.611893,0.58557,0.76525]\n",
    "print(len(TIME2), len(zdr))\n",
    "plt.scatter(TIME2,zdr)\n",
    "#sidx = [8,10,15,18,24,28,30,35,39]\n",
    "#sidx = [1,15,21,29,35,43,53,55,57,59,69,75]\n",
    "sidx = [0,16,24,29,31,36,42,48,54,60]\n",
    "fill = np.empty((len(DATE)))\n",
    "fill[:] = np.nan\n",
    "for i in range(0,len(TIME2)):\n",
    "    fill[sidx[i]] = zdr[i]\n",
    "    \n",
    "fill\n",
    "plt.scatter()\n"
   ]
  },
  {
   "cell_type": "code",
   "execution_count": 189,
   "metadata": {},
   "outputs": [
    {
     "data": {
      "image/png": "[encoded data removed]",
      "text/plain": [
       "<Figure size 720x216 with 2 Axes>"
      ]
     },
     "metadata": {
      "needs_background": "light"
     },
     "output_type": "display_data"
    }
   ],
   "source": [
    "# Plot time series of the noise floor difference (h-v)\n",
    "#plt.figure(figsize=[10,3])\n",
    "#plt.scatter(DATE_s,HVfix_s,marker='o')\n",
    "#plt.scatter(DATE_s,fill,marker='*')\n",
    "#plt.ylabel('dB')\n",
    "#plt.title('Noise floor difference (H-V) \\n 2018-10-20 \\n 00:07:39 - 10:37:39')\n",
    "#plt.xticks(np.arange(len(TIME)),sorted(TIME),rotation=60)\n",
    "#plt.show()\n",
    "\n",
    "fig, ax1 = plt.subplots(figsize=[10,3])\n",
    "hv = ax1.scatter(DATE_s,HVfix_s,marker='o',label='H-V')\n",
    "ax1.set_ylabel('Noise floor difference H-V (dB)')\n",
    "ax1.set_title('2018-10-28 \\n 00:22:15 - 08:25:55 Z')\n",
    "ax1.set_xticklabels(sorted(TIME),rotation=60)\n",
    "#ax1.flat.set_major_locator(plt.MaxNLocator())\n",
    "ax1.locator_params(nbins=12)\n",
    "ax2 = ax1.twinx()\n",
    "zd = ax2.scatter(DATE_s,fill,marker='*',color='r',label='ZDR')\n",
    "ax2.set_ylabel('Mean ZDR in stratiform (dB)')\n",
    "#ax2.set_xticklabels(sorted(TIME),rotation=60)\n",
    "ax2.set_xticklabels(TIME_ticks,rotation=60)\n",
    "ax2.locator_params(nbins=12)\n",
    "ax2.legend()\n",
    "#ax1.legend()\n",
    "#var = hv+zd\n",
    "#labs = [l.get_label() for l in var]\n",
    "#ax1.legend(var,labs,prop={'size':16})\n",
    "\n",
    "plt.show()\n",
    "#print(sorted(TIME))\n",
    "\n",
    "#plt.xticks(np.arange(len(TIME)),sorted(labels),rotation=60)"
   ]
  },
  {
   "cell_type": "code",
   "execution_count": null,
   "metadata": {},
   "outputs": [],
   "source": []
  },
  {
   "cell_type": "code",
   "execution_count": null,
   "metadata": {},
   "outputs": [],
   "source": []
  }
 ],
 "metadata": {
  "kernelspec": {
   "display_name": "Python 3",
   "language": "python",
   "name": "python3"
  },
  "language_info": {
   "codemirror_mode": {
    "name": "ipython",
    "version": 3
   },
   "file_extension": ".py",
   "mimetype": "text/x-python",
   "name": "python",
   "nbconvert_exporter": "python",
   "pygments_lexer": "ipython3",
   "version": "3.6.6"
  }
 },
 "nbformat": 4,
 "nbformat_minor": 2
}
